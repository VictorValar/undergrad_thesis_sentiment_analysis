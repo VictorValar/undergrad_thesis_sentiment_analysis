{
 "cells": [
  {
   "cell_type": "code",
   "execution_count": 7,
   "source": [
    "import config.mongo_setup as mongo_setup\r\n",
    "from models import TweetsRequests, Tweets\r\n",
    "import pandas as pd\r\n",
    "mongo_setup.global_init()\r\n",
    "\r\n",
    "objs = Tweets.objects(tweet_id=1435415933577740289).values_list('tweet_id','author_id','created_at','text','lang','retweet_count','reply_count','like_count','quote_count','id')\r\n",
    "\r\n",
    "# for i in objs:\r\n",
    "#     print(i.text,i.tweet_id)\r\n",
    "ob = objs.values_list('tweet_id','author_id','created_at','text','lang','retweet_count','reply_count','like_count','quote_count','id')\r\n",
    "df = pd.DataFrame.from_records(data=ob, columns=['tweet_id','author_id','created_at','text','lang','retweet_count','reply_count','like_count','quote_count','id'])\r\n",
    "df"
   ],
   "outputs": [
    {
     "output_type": "execute_result",
     "data": {
      "text/html": [
       "<div>\n",
       "<style scoped>\n",
       "    .dataframe tbody tr th:only-of-type {\n",
       "        vertical-align: middle;\n",
       "    }\n",
       "\n",
       "    .dataframe tbody tr th {\n",
       "        vertical-align: top;\n",
       "    }\n",
       "\n",
       "    .dataframe thead th {\n",
       "        text-align: right;\n",
       "    }\n",
       "</style>\n",
       "<table border=\"1\" class=\"dataframe\">\n",
       "  <thead>\n",
       "    <tr style=\"text-align: right;\">\n",
       "      <th></th>\n",
       "      <th>tweet_id</th>\n",
       "      <th>author_id</th>\n",
       "      <th>created_at</th>\n",
       "      <th>text</th>\n",
       "      <th>lang</th>\n",
       "      <th>retweet_count</th>\n",
       "      <th>reply_count</th>\n",
       "      <th>like_count</th>\n",
       "      <th>quote_count</th>\n",
       "      <th>id</th>\n",
       "    </tr>\n",
       "  </thead>\n",
       "  <tbody>\n",
       "    <tr>\n",
       "      <th>0</th>\n",
       "      <td>1435415933577740289</td>\n",
       "      <td>74756085</td>\n",
       "      <td>2021-09-08</td>\n",
       "      <td>Mais uma vez uma parte da imprensa dá atenção ...</td>\n",
       "      <td>pt</td>\n",
       "      <td>500</td>\n",
       "      <td>345</td>\n",
       "      <td>3368</td>\n",
       "      <td>13</td>\n",
       "      <td>613833acc71179ec6744540d</td>\n",
       "    </tr>\n",
       "  </tbody>\n",
       "</table>\n",
       "</div>"
      ],
      "text/plain": [
       "              tweet_id  author_id  created_at  \\\n",
       "0  1435415933577740289   74756085  2021-09-08   \n",
       "\n",
       "                                                text lang  retweet_count  \\\n",
       "0  Mais uma vez uma parte da imprensa dá atenção ...   pt            500   \n",
       "\n",
       "   reply_count  like_count  quote_count                        id  \n",
       "0          345        3368           13  613833acc71179ec6744540d  "
      ]
     },
     "metadata": {},
     "execution_count": 7
    }
   ],
   "metadata": {}
  },
  {
   "cell_type": "code",
   "execution_count": 56,
   "source": [
    "import config.mongo_setup as mongo_setup\r\n",
    "from models import TweetsRequests, Tweets, RepliesRequests\r\n",
    "import pandas as pd\r\n",
    "mongo_setup.global_init()\r\n",
    "\r\n",
    "objs = TweetsRequests.objects(request_meta__next_token='b26v89c19zqg8o3fpdp8ckkszjk4i461v90uorp9uva7x').first()\r\n",
    "if not objs:\r\n",
    "    print('do something')\r\n",
    "else:\r\n",
    "    print(objs.id)"
   ],
   "outputs": [
    {
     "output_type": "stream",
     "name": "stdout",
     "text": [
      "613ec6fb5e4f642f7c772e4f\n"
     ]
    }
   ],
   "metadata": {}
  },
  {
   "cell_type": "code",
   "execution_count": 58,
   "source": [
    "import config.mongo_setup as mongo_setup\r\n",
    "from models import TweetsRequests, Tweets\r\n",
    "import pandas as pd\r\n",
    "mongo_setup.global_init()\r\n",
    "\r\n",
    "obj = RepliesRequests.objects.order_by('-id').first()\r\n",
    "print(obj.request_meta.next_token)"
   ],
   "outputs": [
    {
     "output_type": "stream",
     "name": "stdout",
     "text": [
      "b26v89c19zqg8o3fpdp7xlcqq2a9ld9lv7lds3iuueet9\n"
     ]
    }
   ],
   "metadata": {}
  },
  {
   "cell_type": "code",
   "execution_count": 1,
   "source": [
    "dt = '2021-09-06T20:30:11.000Z'\r\n",
    "dt[0:19]"
   ],
   "outputs": [
    {
     "output_type": "execute_result",
     "data": {
      "text/plain": [
       "'2021-09-06T20:30:11'"
      ]
     },
     "metadata": {},
     "execution_count": 1
    }
   ],
   "metadata": {}
  }
 ],
 "metadata": {
  "orig_nbformat": 4,
  "language_info": {
   "name": "python",
   "version": "3.9.6",
   "mimetype": "text/x-python",
   "codemirror_mode": {
    "name": "ipython",
    "version": 3
   },
   "pygments_lexer": "ipython3",
   "nbconvert_exporter": "python",
   "file_extension": ".py"
  },
  "kernelspec": {
   "name": "python3",
   "display_name": "Python 3.9.6 64-bit"
  },
  "interpreter": {
   "hash": "b7f956a46ecdd08bf05a56fbe663e66607cb81b1d1907f855a4e3aba77369911"
  }
 },
 "nbformat": 4,
 "nbformat_minor": 2
}