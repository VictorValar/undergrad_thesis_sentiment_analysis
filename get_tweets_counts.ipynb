{
 "cells": [
  {
   "cell_type": "code",
   "execution_count": 9,
   "source": [
    "import twitter\r\n",
    "import yaml\r\n",
    "import config.mongo_setup as mongo_setup\r\n",
    "from main import process_yaml\r\n",
    "\r\n",
    "user = \"EduardoLeite_\"\r\n",
    "\r\n",
    "mongo_setup.global_init()\r\n",
    "auth_data = process_yaml()\r\n",
    "# Twitter steps\r\n",
    "bearer_token = twitter.create_bearer_token(auth_data)\r\n",
    "total_count = twitter.get_tweets_count(user,bearer_token)\r\n",
    "print(total_count)"
   ],
   "outputs": [
    {
     "output_type": "stream",
     "name": "stdout",
     "text": [
      " this user has 33 tweets in the last 7 days\n",
      "33\n"
     ]
    }
   ],
   "metadata": {}
  },
  {
   "cell_type": "code",
   "execution_count": 2,
   "source": [
    "from twitter import get_replies_count, create_bearer_token\r\n",
    "import yaml\r\n",
    "import config.mongo_setup as mongo_setup\r\n",
    "from main import process_yaml\r\n",
    "\r\n",
    "mongo_setup.global_init()\r\n",
    "auth_data = process_yaml()\r\n",
    "bearer_token = create_bearer_token(auth_data)\r\n",
    "\r\n",
    "json_response = get_replies_count(1436359670084644865,bearer_token)\r\n",
    "print(json_response)"
   ],
   "outputs": [
    {
     "output_type": "stream",
     "name": "stdout",
     "text": [
      "there were 0 replies\n",
      "0\n"
     ]
    }
   ],
   "metadata": {}
  }
 ],
 "metadata": {
  "orig_nbformat": 4,
  "language_info": {
   "name": "python",
   "version": "3.9.6",
   "mimetype": "text/x-python",
   "codemirror_mode": {
    "name": "ipython",
    "version": 3
   },
   "pygments_lexer": "ipython3",
   "nbconvert_exporter": "python",
   "file_extension": ".py"
  },
  "kernelspec": {
   "name": "python3",
   "display_name": "Python 3.9.6 64-bit"
  },
  "interpreter": {
   "hash": "b7f956a46ecdd08bf05a56fbe663e66607cb81b1d1907f855a4e3aba77369911"
  }
 },
 "nbformat": 4,
 "nbformat_minor": 2
}