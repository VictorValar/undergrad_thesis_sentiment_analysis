{
 "cells": [
  {
   "cell_type": "code",
   "execution_count": 10,
   "source": [
    "import twitter\r\n",
    "import yaml\r\n",
    "import config.mongo_setup as mongo_setup\r\n",
    "from main import process_yaml\r\n",
    "\r\n",
    "user = \"lhmandetta\"\r\n",
    "\r\n",
    "mongo_setup.global_init()\r\n",
    "auth_data = process_yaml()\r\n",
    "# Twitter steps\r\n",
    "bearer_token = twitter.create_bearer_token(auth_data)\r\n",
    "total_count = twitter.get_tweets_count(user,bearer_token)\r\n",
    "print(total_count)"
   ],
   "outputs": [
    {
     "output_type": "stream",
     "name": "stdout",
     "text": [
      " this user has 9 tweets in the last 7 days\n",
      "9\n"
     ]
    }
   ],
   "metadata": {}
  },
  {
   "cell_type": "code",
   "execution_count": 2,
   "source": [
    "from twitter import get_replies_count, create_bearer_token\r\n",
    "import yaml\r\n",
    "import config.mongo_setup as mongo_setup\r\n",
    "from main import process_yaml\r\n",
    "\r\n",
    "mongo_setup.global_init()\r\n",
    "auth_data = process_yaml()\r\n",
    "bearer_token = create_bearer_token(auth_data)\r\n",
    "\r\n",
    "json_response = get_replies_count(1436359670084644865,bearer_token)\r\n",
    "print(json_response)"
   ],
   "outputs": [
    {
     "output_type": "stream",
     "name": "stdout",
     "text": [
      "there were 0 replies\n",
      "0\n"
     ]
    }
   ],
   "metadata": {}
  },
  {
   "cell_type": "code",
   "execution_count": 44,
   "source": [
    "#Counts\r\n",
    "\r\n",
    "import config.mongo_setup as mongo_setup\r\n",
    "from models import TweetsRequests, Tweets, RepliesRequests, Replies\r\n",
    "import pandas as pd\r\n",
    "mongo_setup.global_init()\r\n",
    "\r\n",
    "candidates = [('lhmandetta',2726301380),\r\n",
    "('EduardoLeite_',123891446),\r\n",
    "('DatenaOficial',68722955),\r\n",
    "('SF_Moro',1113094855281000000),\r\n",
    "('cirogomes',33374761),\r\n",
    "('jdoriajr',64706049),\r\n",
    "('LulaOficial',2670726740),\r\n",
    "('jairbolsonaro',128372940),]\r\n",
    "\r\n",
    "rows = []\r\n",
    "cols = ['Candidate','Tweets','Replies','Total']\r\n",
    "\r\n",
    "for candidate, id in candidates:\r\n",
    "    replies = Replies.objects(in_reply_to_user_id=id)\r\n",
    "    tweets = Tweets.objects(author_id=id)\r\n",
    "    rows.append((candidate,len(tweets),len(replies),len(replies)+len(tweets)))\r\n",
    "    # print(f'{candidate}:\\n Tweets = {len(tweets)} \\n Replies = {len(replies)} \\n Total = {len(replies)+len(tweets)}')\r\n",
    "\r\n",
    "df = pd.DataFrame(columns=cols, data=rows)\r\n",
    "df\r\n"
   ],
   "outputs": [
    {
     "output_type": "execute_result",
     "data": {
      "text/html": [
       "<div>\n",
       "<style scoped>\n",
       "    .dataframe tbody tr th:only-of-type {\n",
       "        vertical-align: middle;\n",
       "    }\n",
       "\n",
       "    .dataframe tbody tr th {\n",
       "        vertical-align: top;\n",
       "    }\n",
       "\n",
       "    .dataframe thead th {\n",
       "        text-align: right;\n",
       "    }\n",
       "</style>\n",
       "<table border=\"1\" class=\"dataframe\">\n",
       "  <thead>\n",
       "    <tr style=\"text-align: right;\">\n",
       "      <th></th>\n",
       "      <th>Candidate</th>\n",
       "      <th>Tweets</th>\n",
       "      <th>Replies</th>\n",
       "      <th>Total</th>\n",
       "    </tr>\n",
       "  </thead>\n",
       "  <tbody>\n",
       "    <tr>\n",
       "      <th>0</th>\n",
       "      <td>lhmandetta</td>\n",
       "      <td>9</td>\n",
       "      <td>1238</td>\n",
       "      <td>1247</td>\n",
       "    </tr>\n",
       "    <tr>\n",
       "      <th>1</th>\n",
       "      <td>EduardoLeite_</td>\n",
       "      <td>33</td>\n",
       "      <td>1121</td>\n",
       "      <td>1154</td>\n",
       "    </tr>\n",
       "    <tr>\n",
       "      <th>2</th>\n",
       "      <td>DatenaOficial</td>\n",
       "      <td>18</td>\n",
       "      <td>915</td>\n",
       "      <td>933</td>\n",
       "    </tr>\n",
       "    <tr>\n",
       "      <th>3</th>\n",
       "      <td>SF_Moro</td>\n",
       "      <td>0</td>\n",
       "      <td>0</td>\n",
       "      <td>0</td>\n",
       "    </tr>\n",
       "    <tr>\n",
       "      <th>4</th>\n",
       "      <td>cirogomes</td>\n",
       "      <td>93</td>\n",
       "      <td>8270</td>\n",
       "      <td>8363</td>\n",
       "    </tr>\n",
       "    <tr>\n",
       "      <th>5</th>\n",
       "      <td>jdoriajr</td>\n",
       "      <td>24</td>\n",
       "      <td>3082</td>\n",
       "      <td>3106</td>\n",
       "    </tr>\n",
       "    <tr>\n",
       "      <th>6</th>\n",
       "      <td>LulaOficial</td>\n",
       "      <td>19</td>\n",
       "      <td>1246</td>\n",
       "      <td>1265</td>\n",
       "    </tr>\n",
       "    <tr>\n",
       "      <th>7</th>\n",
       "      <td>jairbolsonaro</td>\n",
       "      <td>22</td>\n",
       "      <td>3258</td>\n",
       "      <td>3280</td>\n",
       "    </tr>\n",
       "  </tbody>\n",
       "</table>\n",
       "</div>"
      ],
      "text/plain": [
       "       Candidate  Tweets  Replies  Total\n",
       "0     lhmandetta       9     1238   1247\n",
       "1  EduardoLeite_      33     1121   1154\n",
       "2  DatenaOficial      18      915    933\n",
       "3        SF_Moro       0        0      0\n",
       "4      cirogomes      93     8270   8363\n",
       "5       jdoriajr      24     3082   3106\n",
       "6    LulaOficial      19     1246   1265\n",
       "7  jairbolsonaro      22     3258   3280"
      ]
     },
     "metadata": {},
     "execution_count": 44
    }
   ],
   "metadata": {}
  },
  {
   "cell_type": "code",
   "execution_count": 39,
   "source": [
    "#DELETE FROM DB\r\n",
    "\r\n",
    "import config.mongo_setup as mongo_setup\r\n",
    "from models import TweetsRequests, Tweets, RepliesRequests, Replies\r\n",
    "import pandas as pd\r\n",
    "mongo_setup.global_init()\r\n",
    "\r\n",
    "candidates = [('lhmandetta',2726301380),\r\n",
    "('EduardoLeite_',123891446),\r\n",
    "('DatenaOficial',68722955),\r\n",
    "('SF_Moro',1113094855281000000),\r\n",
    "('cirogomes',33374761),\r\n",
    "('jdoriajr',64706049),\r\n",
    "('LulaOficial',2670726740),\r\n",
    "('jairbolsonaro',128372940)]\r\n",
    "\r\n",
    "id = 128372940\r\n",
    "\r\n",
    "replies = Replies.objects(in_reply_to_user_id=id)\r\n",
    "tweets = Tweets.objects(author_id=id)\r\n",
    "\r\n",
    "# replies.delete()\r\n",
    "# tweets.delete()\r\n",
    "print(f'Tweets = {len(tweets)} \\n Replies = {len(replies)} \\n Total = {len(replies)+len(tweets)}')"
   ],
   "outputs": [
    {
     "output_type": "stream",
     "name": "stdout",
     "text": [
      "Tweets = 22 \n",
      " Replies = 3258 \n",
      " Total = 3280\n"
     ]
    }
   ],
   "metadata": {}
  }
 ],
 "metadata": {
  "orig_nbformat": 4,
  "language_info": {
   "name": "python",
   "version": "3.9.6",
   "mimetype": "text/x-python",
   "codemirror_mode": {
    "name": "ipython",
    "version": 3
   },
   "pygments_lexer": "ipython3",
   "nbconvert_exporter": "python",
   "file_extension": ".py"
  },
  "kernelspec": {
   "name": "python3",
   "display_name": "Python 3.9.6 64-bit"
  },
  "interpreter": {
   "hash": "b7f956a46ecdd08bf05a56fbe663e66607cb81b1d1907f855a4e3aba77369911"
  }
 },
 "nbformat": 4,
 "nbformat_minor": 2
}