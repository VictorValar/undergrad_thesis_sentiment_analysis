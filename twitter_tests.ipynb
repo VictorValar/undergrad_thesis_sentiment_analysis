{
 "cells": [
  {
   "cell_type": "code",
   "execution_count": 18,
   "source": [
    "from twitter import get_tweets_count\r\n",
    "import yaml\r\n",
    "with open(\"config/config.yaml\") as auth:\r\n",
    "    auth_out = yaml.safe_load(auth)\r\n",
    "bearer_token = auth_out[\"search_tweets_api\"][\"bearer_token\"]\r\n",
    "user = 'lhmandetta'\r\n",
    "\r\n",
    "print(get_tweets_count(user, bearer_token))"
   ],
   "outputs": [
    {
     "output_type": "stream",
     "name": "stdout",
     "text": [
      "0\n"
     ]
    }
   ],
   "metadata": {}
  },
  {
   "cell_type": "code",
   "execution_count": null,
   "source": [
    "candidates = [('lhmandetta',2726301380,'Mandetta'),\r\n",
    "('EduardoLeite_',123891446,'Eduardo Leite')33,\r\n",
    "('DatenaOficial',68722955, 'Datena')20,\r\n",
    "('cirogomes',33374761, 'Ciro Gomes')42,\r\n",
    "('jdoriajr',64706049, 'Dória')40,\r\n",
    "('LulaOficial',2670726740,'Lula')33,\r\n",
    "('jairbolsonaro',128372940, 'Bolsonaro')28-3.4k,]\r\n"
   ],
   "outputs": [],
   "metadata": {}
  },
  {
   "cell_type": "code",
   "execution_count": null,
   "source": [],
   "outputs": [],
   "metadata": {}
  }
 ],
 "metadata": {
  "orig_nbformat": 4,
  "language_info": {
   "name": "python",
   "version": "3.9.6",
   "mimetype": "text/x-python",
   "codemirror_mode": {
    "name": "ipython",
    "version": 3
   },
   "pygments_lexer": "ipython3",
   "nbconvert_exporter": "python",
   "file_extension": ".py"
  },
  "kernelspec": {
   "name": "python3",
   "display_name": "Python 3.9.6 64-bit"
  },
  "interpreter": {
   "hash": "b7f956a46ecdd08bf05a56fbe663e66607cb81b1d1907f855a4e3aba77369911"
  }
 },
 "nbformat": 4,
 "nbformat_minor": 2
}