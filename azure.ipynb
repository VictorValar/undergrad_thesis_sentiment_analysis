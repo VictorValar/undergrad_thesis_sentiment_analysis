{
 "cells": [
  {
   "cell_type": "code",
   "execution_count": 1,
   "source": [
    "import config.mongo_setup as mongo_setup\r\n",
    "from models import Tweets, Replies\r\n",
    "import pandas as pd\r\n",
    "mongo_setup.global_init()"
   ],
   "outputs": [],
   "metadata": {}
  },
  {
   "cell_type": "markdown",
   "source": [
    "candidates = [('lhmandetta',2726301380),\r\n",
    "('EduardoLeite_',123891446),\r\n",
    "('DatenaOficial',68722955),\r\n",
    "('SF_Moro',1113094855281000000),\r\n",
    "('cirogomes',33374761),\r\n",
    "('jdoriajr',64706049),\r\n",
    "('LulaOficial',2670726740),\r\n",
    "('jairbolsonaro',128372940),]"
   ],
   "metadata": {}
  },
  {
   "cell_type": "code",
   "execution_count": 2,
   "source": [
    "\r\n",
    "objs = Tweets.objects().all().values_list('id', 'tweet_id','author_id','created_at','text','lang','retweet_count','reply_count','like_count','quote_count')\r\n",
    "\r\n",
    "corupus = pd.DataFrame.from_records(data=objs, columns=['id','tweet_id','author_id','created_at','text','lang','retweet_count','reply_count','like_count','quote_count'])\r\n",
    "# corupus = corupus.drop(columns=['author_id','created_at','retweet_count','reply_count','like_count','quote_count','id'])\r\n",
    "# corupus = corupus.rename(columns={\"tweet_id\": \"id\"})\r\n",
    "corupus.head()"
   ],
   "outputs": [
    {
     "output_type": "execute_result",
     "data": {
      "text/html": [
       "<div>\n",
       "<style scoped>\n",
       "    .dataframe tbody tr th:only-of-type {\n",
       "        vertical-align: middle;\n",
       "    }\n",
       "\n",
       "    .dataframe tbody tr th {\n",
       "        vertical-align: top;\n",
       "    }\n",
       "\n",
       "    .dataframe thead th {\n",
       "        text-align: right;\n",
       "    }\n",
       "</style>\n",
       "<table border=\"1\" class=\"dataframe\">\n",
       "  <thead>\n",
       "    <tr style=\"text-align: right;\">\n",
       "      <th></th>\n",
       "      <th>id</th>\n",
       "      <th>tweet_id</th>\n",
       "      <th>author_id</th>\n",
       "      <th>created_at</th>\n",
       "      <th>text</th>\n",
       "      <th>lang</th>\n",
       "      <th>retweet_count</th>\n",
       "      <th>reply_count</th>\n",
       "      <th>like_count</th>\n",
       "      <th>quote_count</th>\n",
       "    </tr>\n",
       "  </thead>\n",
       "  <tbody>\n",
       "    <tr>\n",
       "      <th>0</th>\n",
       "      <td>613ec5589eb2bd97646d86ad</td>\n",
       "      <td>1437158653623160837</td>\n",
       "      <td>2670726740</td>\n",
       "      <td>2021-09-12 20:58:18</td>\n",
       "      <td>@dilmabr 🙏🏼</td>\n",
       "      <td>und</td>\n",
       "      <td>123</td>\n",
       "      <td>76</td>\n",
       "      <td>6411</td>\n",
       "      <td>7</td>\n",
       "    </tr>\n",
       "    <tr>\n",
       "      <th>1</th>\n",
       "      <td>613ec5599eb2bd97646d86ae</td>\n",
       "      <td>1437054980884684804</td>\n",
       "      <td>2670726740</td>\n",
       "      <td>2021-09-12 14:06:21</td>\n",
       "      <td>Recomendação de leitura para o domingo: Amor à...</td>\n",
       "      <td>pt</td>\n",
       "      <td>1812</td>\n",
       "      <td>1529</td>\n",
       "      <td>18236</td>\n",
       "      <td>271</td>\n",
       "    </tr>\n",
       "    <tr>\n",
       "      <th>2</th>\n",
       "      <td>613ec5599eb2bd97646d86af</td>\n",
       "      <td>1436397090003881984</td>\n",
       "      <td>2670726740</td>\n",
       "      <td>2021-09-10 18:32:07</td>\n",
       "      <td>“Olho pra trás, vejo a estrada que eu trilhei,...</td>\n",
       "      <td>pt</td>\n",
       "      <td>783</td>\n",
       "      <td>538</td>\n",
       "      <td>7294</td>\n",
       "      <td>84</td>\n",
       "    </tr>\n",
       "    <tr>\n",
       "      <th>3</th>\n",
       "      <td>613ec5599eb2bd97646d86b0</td>\n",
       "      <td>1436156966817181698</td>\n",
       "      <td>2670726740</td>\n",
       "      <td>2021-09-10 02:37:58</td>\n",
       "      <td>@leandraleal Feliz Aniversário, companheira! 💫</td>\n",
       "      <td>pt</td>\n",
       "      <td>87</td>\n",
       "      <td>84</td>\n",
       "      <td>7371</td>\n",
       "      <td>7</td>\n",
       "    </tr>\n",
       "    <tr>\n",
       "      <th>4</th>\n",
       "      <td>613ec55a9eb2bd97646d86b1</td>\n",
       "      <td>1435999486162186244</td>\n",
       "      <td>2670726740</td>\n",
       "      <td>2021-09-09 16:12:11</td>\n",
       "      <td>@MussumAlive @manobrown 👊🏼</td>\n",
       "      <td>und</td>\n",
       "      <td>10</td>\n",
       "      <td>15</td>\n",
       "      <td>636</td>\n",
       "      <td>1</td>\n",
       "    </tr>\n",
       "  </tbody>\n",
       "</table>\n",
       "</div>"
      ],
      "text/plain": [
       "                         id             tweet_id   author_id  \\\n",
       "0  613ec5589eb2bd97646d86ad  1437158653623160837  2670726740   \n",
       "1  613ec5599eb2bd97646d86ae  1437054980884684804  2670726740   \n",
       "2  613ec5599eb2bd97646d86af  1436397090003881984  2670726740   \n",
       "3  613ec5599eb2bd97646d86b0  1436156966817181698  2670726740   \n",
       "4  613ec55a9eb2bd97646d86b1  1435999486162186244  2670726740   \n",
       "\n",
       "           created_at                                               text lang  \\\n",
       "0 2021-09-12 20:58:18                                        @dilmabr 🙏🏼  und   \n",
       "1 2021-09-12 14:06:21  Recomendação de leitura para o domingo: Amor à...   pt   \n",
       "2 2021-09-10 18:32:07  “Olho pra trás, vejo a estrada que eu trilhei,...   pt   \n",
       "3 2021-09-10 02:37:58     @leandraleal Feliz Aniversário, companheira! 💫   pt   \n",
       "4 2021-09-09 16:12:11                         @MussumAlive @manobrown 👊🏼  und   \n",
       "\n",
       "   retweet_count  reply_count  like_count  quote_count  \n",
       "0            123           76        6411            7  \n",
       "1           1812         1529       18236          271  \n",
       "2            783          538        7294           84  \n",
       "3             87           84        7371            7  \n",
       "4             10           15         636            1  "
      ]
     },
     "metadata": {},
     "execution_count": 2
    }
   ],
   "metadata": {}
  },
  {
   "cell_type": "code",
   "execution_count": 3,
   "source": [
    "corupus = corupus.drop(columns=['author_id','created_at','retweet_count','reply_count','like_count','quote_count','id'])\r\n",
    "corupus = corupus.rename(columns={\"tweet_id\": \"id\", 'lang':'language'})\r\n",
    "corupus.head()"
   ],
   "outputs": [
    {
     "output_type": "execute_result",
     "data": {
      "text/html": [
       "<div>\n",
       "<style scoped>\n",
       "    .dataframe tbody tr th:only-of-type {\n",
       "        vertical-align: middle;\n",
       "    }\n",
       "\n",
       "    .dataframe tbody tr th {\n",
       "        vertical-align: top;\n",
       "    }\n",
       "\n",
       "    .dataframe thead th {\n",
       "        text-align: right;\n",
       "    }\n",
       "</style>\n",
       "<table border=\"1\" class=\"dataframe\">\n",
       "  <thead>\n",
       "    <tr style=\"text-align: right;\">\n",
       "      <th></th>\n",
       "      <th>id</th>\n",
       "      <th>text</th>\n",
       "      <th>language</th>\n",
       "    </tr>\n",
       "  </thead>\n",
       "  <tbody>\n",
       "    <tr>\n",
       "      <th>0</th>\n",
       "      <td>1437158653623160837</td>\n",
       "      <td>@dilmabr 🙏🏼</td>\n",
       "      <td>und</td>\n",
       "    </tr>\n",
       "    <tr>\n",
       "      <th>1</th>\n",
       "      <td>1437054980884684804</td>\n",
       "      <td>Recomendação de leitura para o domingo: Amor à...</td>\n",
       "      <td>pt</td>\n",
       "    </tr>\n",
       "    <tr>\n",
       "      <th>2</th>\n",
       "      <td>1436397090003881984</td>\n",
       "      <td>“Olho pra trás, vejo a estrada que eu trilhei,...</td>\n",
       "      <td>pt</td>\n",
       "    </tr>\n",
       "    <tr>\n",
       "      <th>3</th>\n",
       "      <td>1436156966817181698</td>\n",
       "      <td>@leandraleal Feliz Aniversário, companheira! 💫</td>\n",
       "      <td>pt</td>\n",
       "    </tr>\n",
       "    <tr>\n",
       "      <th>4</th>\n",
       "      <td>1435999486162186244</td>\n",
       "      <td>@MussumAlive @manobrown 👊🏼</td>\n",
       "      <td>und</td>\n",
       "    </tr>\n",
       "  </tbody>\n",
       "</table>\n",
       "</div>"
      ],
      "text/plain": [
       "                    id                                               text  \\\n",
       "0  1437158653623160837                                        @dilmabr 🙏🏼   \n",
       "1  1437054980884684804  Recomendação de leitura para o domingo: Amor à...   \n",
       "2  1436397090003881984  “Olho pra trás, vejo a estrada que eu trilhei,...   \n",
       "3  1436156966817181698     @leandraleal Feliz Aniversário, companheira! 💫   \n",
       "4  1435999486162186244                         @MussumAlive @manobrown 👊🏼   \n",
       "\n",
       "  language  \n",
       "0      und  \n",
       "1       pt  \n",
       "2       pt  \n",
       "3       pt  \n",
       "4      und  "
      ]
     },
     "metadata": {},
     "execution_count": 3
    }
   ],
   "metadata": {}
  },
  {
   "cell_type": "code",
   "execution_count": 4,
   "source": [
    "import json\r\n",
    "js_file = corupus.to_json(orient=\"records\")\r\n",
    "json_file = json.loads(js_file)"
   ],
   "outputs": [],
   "metadata": {}
  },
  {
   "cell_type": "code",
   "execution_count": 8,
   "source": [
    "from vcolors.colors import printS,printSBG, printW,printWBG , printF,printFBG\r\n"
   ],
   "outputs": [],
   "metadata": {}
  },
  {
   "cell_type": "code",
   "execution_count": 20,
   "source": [],
   "outputs": [],
   "metadata": {}
  },
  {
   "cell_type": "code",
   "execution_count": 9,
   "source": [],
   "outputs": [
    {
     "output_type": "error",
     "ename": "ImportError",
     "evalue": "cannot import name 'process_yaml' from partially initialized module 'main' (most likely due to a circular import) (c:\\Users\\victor.santos2\\OneDrive - Grupo Marista\\TCC\\Twitter Sentiment Analysis\\MongoTwitter\\main.py)",
     "traceback": [
      "\u001b[1;31m---------------------------------------------------------------------------\u001b[0m",
      "\u001b[1;31mImportError\u001b[0m                               Traceback (most recent call last)",
      "\u001b[1;32m<ipython-input-9-00c58e5a9799>\u001b[0m in \u001b[0;36m<module>\u001b[1;34m\u001b[0m\n\u001b[1;32m----> 1\u001b[1;33m \u001b[1;32mfrom\u001b[0m \u001b[0mazure\u001b[0m\u001b[1;33m.\u001b[0m\u001b[0mai\u001b[0m\u001b[1;33m.\u001b[0m\u001b[0mtextanalytics\u001b[0m \u001b[1;32mimport\u001b[0m \u001b[0mTextAnalyticsClient\u001b[0m\u001b[1;33m\u001b[0m\u001b[1;33m\u001b[0m\u001b[0m\n\u001b[0m\u001b[0;32m      2\u001b[0m \u001b[1;32mfrom\u001b[0m \u001b[0mazure\u001b[0m\u001b[1;33m.\u001b[0m\u001b[0mcore\u001b[0m\u001b[1;33m.\u001b[0m\u001b[0mcredentials\u001b[0m \u001b[1;32mimport\u001b[0m \u001b[0mAzureKeyCredential\u001b[0m\u001b[1;33m\u001b[0m\u001b[1;33m\u001b[0m\u001b[0m\n\u001b[0;32m      3\u001b[0m \u001b[1;33m\u001b[0m\u001b[0m\n\u001b[0;32m      4\u001b[0m \u001b[1;33m\u001b[0m\u001b[0m\n\u001b[0;32m      5\u001b[0m \u001b[1;32mdef\u001b[0m \u001b[0mauthenticate_client\u001b[0m\u001b[1;33m(\u001b[0m\u001b[1;33m)\u001b[0m\u001b[1;33m:\u001b[0m\u001b[1;33m\u001b[0m\u001b[1;33m\u001b[0m\u001b[0m\n",
      "\u001b[1;32mc:\\Users\\victor.santos2\\OneDrive - Grupo Marista\\TCC\\Twitter Sentiment Analysis\\MongoTwitter\\azure.py\u001b[0m in \u001b[0;36m<module>\u001b[1;34m\u001b[0m\n\u001b[1;32m----> 1\u001b[1;33m \u001b[1;32mfrom\u001b[0m \u001b[0mmain\u001b[0m \u001b[1;32mimport\u001b[0m \u001b[0mprocess_yaml\u001b[0m\u001b[1;33m\u001b[0m\u001b[1;33m\u001b[0m\u001b[0m\n\u001b[0m\u001b[0;32m      2\u001b[0m \u001b[1;32mfrom\u001b[0m \u001b[0mazure\u001b[0m\u001b[1;33m.\u001b[0m\u001b[0mai\u001b[0m\u001b[1;33m.\u001b[0m\u001b[0mtextanalytics\u001b[0m \u001b[1;32mimport\u001b[0m \u001b[0mTextAnalyticsClient\u001b[0m\u001b[1;33m\u001b[0m\u001b[1;33m\u001b[0m\u001b[0m\n\u001b[0;32m      3\u001b[0m \u001b[1;32mfrom\u001b[0m \u001b[0mazure\u001b[0m\u001b[1;33m.\u001b[0m\u001b[0mcore\u001b[0m\u001b[1;33m.\u001b[0m\u001b[0mcredentials\u001b[0m \u001b[1;32mimport\u001b[0m \u001b[0mAzureKeyCredential\u001b[0m\u001b[1;33m\u001b[0m\u001b[1;33m\u001b[0m\u001b[0m\n\u001b[0;32m      4\u001b[0m \u001b[1;32mfrom\u001b[0m \u001b[0mazure\u001b[0m\u001b[1;33m.\u001b[0m\u001b[0mai\u001b[0m\u001b[1;33m.\u001b[0m\u001b[0mtextanalytics\u001b[0m \u001b[1;32mimport\u001b[0m \u001b[0mRecognizeEntitiesAction\u001b[0m\u001b[1;33m,\u001b[0m \u001b[0mExtractKeyPhrasesAction\u001b[0m\u001b[1;33m\u001b[0m\u001b[1;33m\u001b[0m\u001b[0m\n\u001b[0;32m      5\u001b[0m \u001b[1;32mimport\u001b[0m \u001b[0mjson\u001b[0m\u001b[1;33m\u001b[0m\u001b[1;33m\u001b[0m\u001b[0m\n",
      "\u001b[1;32mc:\\Users\\victor.santos2\\OneDrive - Grupo Marista\\TCC\\Twitter Sentiment Analysis\\MongoTwitter\\main.py\u001b[0m in \u001b[0;36m<module>\u001b[1;34m\u001b[0m\n\u001b[0;32m      1\u001b[0m \u001b[1;32mimport\u001b[0m \u001b[0mconfig\u001b[0m\u001b[1;33m.\u001b[0m\u001b[0mmongo_setup\u001b[0m \u001b[1;32mas\u001b[0m \u001b[0mmongo_setup\u001b[0m\u001b[1;33m\u001b[0m\u001b[1;33m\u001b[0m\u001b[0m\n\u001b[1;32m----> 2\u001b[1;33m \u001b[1;32mimport\u001b[0m \u001b[0mdata\u001b[0m\u001b[1;33m.\u001b[0m\u001b[0mtweets_requests\u001b[0m \u001b[1;32mas\u001b[0m \u001b[0mtweets_requests\u001b[0m\u001b[1;33m\u001b[0m\u001b[1;33m\u001b[0m\u001b[0m\n\u001b[0m\u001b[0;32m      3\u001b[0m \u001b[1;32mimport\u001b[0m \u001b[0mdata\u001b[0m\u001b[1;33m.\u001b[0m\u001b[0mreplies_requests\u001b[0m \u001b[1;32mas\u001b[0m \u001b[0mreplies_requests\u001b[0m\u001b[1;33m\u001b[0m\u001b[1;33m\u001b[0m\u001b[0m\n\u001b[0;32m      4\u001b[0m \u001b[1;32mimport\u001b[0m \u001b[0myaml\u001b[0m\u001b[1;33m\u001b[0m\u001b[1;33m\u001b[0m\u001b[0m\n\u001b[0;32m      5\u001b[0m \u001b[1;32mimport\u001b[0m \u001b[0mtwitter\u001b[0m\u001b[1;33m\u001b[0m\u001b[1;33m\u001b[0m\u001b[0m\n",
      "\u001b[1;32mc:\\Users\\victor.santos2\\OneDrive - Grupo Marista\\TCC\\Twitter Sentiment Analysis\\MongoTwitter\\data\\tweets_requests.py\u001b[0m in \u001b[0;36m<module>\u001b[1;34m\u001b[0m\n\u001b[0;32m      1\u001b[0m \u001b[1;32mfrom\u001b[0m \u001b[0mmodels\u001b[0m \u001b[1;32mimport\u001b[0m \u001b[0mTweetsRequests\u001b[0m\u001b[1;33m,\u001b[0m \u001b[0mTweets\u001b[0m\u001b[1;33m,\u001b[0m \u001b[0mTweetsMeta\u001b[0m\u001b[1;33m,\u001b[0m \u001b[0mRepliesRequests\u001b[0m\u001b[1;33m\u001b[0m\u001b[1;33m\u001b[0m\u001b[0m\n\u001b[0;32m      2\u001b[0m \u001b[1;32mfrom\u001b[0m \u001b[0mdatetime\u001b[0m \u001b[1;32mimport\u001b[0m \u001b[0mdatetime\u001b[0m\u001b[1;33m\u001b[0m\u001b[1;33m\u001b[0m\u001b[0m\n\u001b[1;32m----> 3\u001b[1;33m \u001b[1;32mimport\u001b[0m \u001b[0mtwitter\u001b[0m\u001b[1;33m\u001b[0m\u001b[1;33m\u001b[0m\u001b[0m\n\u001b[0m\u001b[0;32m      4\u001b[0m \u001b[1;33m\u001b[0m\u001b[0m\n\u001b[0;32m      5\u001b[0m \u001b[1;32mdef\u001b[0m \u001b[0mcreate_tt_request\u001b[0m\u001b[1;33m(\u001b[0m\u001b[0mtt_json_resp\u001b[0m\u001b[1;33m)\u001b[0m \u001b[1;33m->\u001b[0m \u001b[0mTweetsRequests\u001b[0m\u001b[1;33m:\u001b[0m\u001b[1;33m\u001b[0m\u001b[1;33m\u001b[0m\u001b[0m\n",
      "\u001b[1;32mc:\\Users\\victor.santos2\\OneDrive - Grupo Marista\\TCC\\Twitter Sentiment Analysis\\MongoTwitter\\twitter.py\u001b[0m in \u001b[0;36m<module>\u001b[1;34m\u001b[0m\n\u001b[0;32m      1\u001b[0m \u001b[1;32mimport\u001b[0m \u001b[0mrequests\u001b[0m\u001b[1;33m\u001b[0m\u001b[1;33m\u001b[0m\u001b[0m\n\u001b[0;32m      2\u001b[0m \u001b[1;32mimport\u001b[0m \u001b[0mtime\u001b[0m\u001b[1;33m\u001b[0m\u001b[1;33m\u001b[0m\u001b[0m\n\u001b[1;32m----> 3\u001b[1;33m \u001b[1;32mfrom\u001b[0m \u001b[0mmain\u001b[0m \u001b[1;32mimport\u001b[0m \u001b[0mprocess_yaml\u001b[0m\u001b[1;33m\u001b[0m\u001b[1;33m\u001b[0m\u001b[0m\n\u001b[0m\u001b[0;32m      4\u001b[0m \u001b[1;32mimport\u001b[0m \u001b[0mconfig\u001b[0m\u001b[1;33m.\u001b[0m\u001b[0mmongo_setup\u001b[0m \u001b[1;32mas\u001b[0m \u001b[0mmongo_setup\u001b[0m\u001b[1;33m\u001b[0m\u001b[1;33m\u001b[0m\u001b[0m\n\u001b[0;32m      5\u001b[0m \u001b[1;32mfrom\u001b[0m \u001b[0mrequests\u001b[0m\u001b[1;33m.\u001b[0m\u001b[0mmodels\u001b[0m \u001b[1;32mimport\u001b[0m \u001b[0mResponse\u001b[0m\u001b[1;33m\u001b[0m\u001b[1;33m\u001b[0m\u001b[0m\n",
      "\u001b[1;31mImportError\u001b[0m: cannot import name 'process_yaml' from partially initialized module 'main' (most likely due to a circular import) (c:\\Users\\victor.santos2\\OneDrive - Grupo Marista\\TCC\\Twitter Sentiment Analysis\\MongoTwitter\\main.py)"
     ]
    }
   ],
   "metadata": {}
  },
  {
   "cell_type": "code",
   "execution_count": 24,
   "source": [],
   "outputs": [
    {
     "output_type": "stream",
     "name": "stdout",
     "text": [
      "reply 1 added to documents\n",
      "reply 2 added to documents\n",
      "reply 3 added to documents\n",
      "reply 4 added to documents\n",
      "reply 5 added to documents\n",
      "reply 6 added to documents\n",
      "reply 7 added to documents\n",
      "reply 8 added to documents\n",
      "reply 9 added to documents\n",
      "reply 10 added to documents\n",
      "[{'id': 1437254908391174151, 'text': '@paulo_a_andrade @jairbolsonaro 😂 😂 😂 😂 😂 😂 😂 😂 😂 😂 😂 😂 😂 😂 😂 😂 😂 😂 😂 😂 😂 😂 😂 😂 😂 😂 😂 😂 😂 😂', 'language': 'pt'}, {'id': 1437254749422854152, 'text': '@fabiohpires @KatiaAMBarros @arnonco @jairbolsonaro Relaxa meu bom kkkk eu tenho a solução https://t.co/LbbuV2niCN', 'language': 'pt'}, {'id': 1437254632791699460, 'text': '@Antonio40867082 @jairbolsonaro @allanldsantos #MBLESTUPRADORES', 'language': 'pt'}, {'id': 1437254201105657862, 'text': '@luke_pallas @JosCamp61559152 @ClaudioMaduro @jairbolsonaro a amigao, quero nem saber, se apertar 13 trouxer preço mais barato nos supermercados eu to pouco me fudendo se é PT ou nao, o assalariado que tem familia pra cuidar n tem tempo pra fkr preocupando com partido não 👍', 'language': 'pt'}, {'id': 1437254182638129153, 'text': '@Adriana43066198 @Carolbolsomina @jairbolsonaro 😂 😂 😂 😂 😂 😂 😂 😂 😂 😂 😂 😂 😂 😂 😂 😂 😂 😂 😂 😂 😂 😂 😂 😂 😂 😂 😂 😂 😂 😂', 'language': 'pt'}, {'id': 1437254015675506693, 'text': '@andreuchoa1 @LaurinhaIronic @jairbolsonaro Ser alienado! Vai firme! Parabéns!!', 'language': 'pt'}, {'id': 1437252988393906177, 'text': '@ClaudioMaduro @jairbolsonaro 😂 😂 😂 😂 😂 😂 😂 😂 😂 😂 😂 😂 😂 😂 😂 😂 😂 😂 😂 😂 😂 😂 😂 😂 😂 😂 😂 😂 😂 😂 😂 😂 😂 😂 😂 😂 😂', 'language': 'pt'}, {'id': 1437252443071451137, 'text': '@EVANDRO21087390 @raposeirotfj @jairbolsonaro Não significa nada. É na Petrobras que subiu 70%. Não adianta.', 'language': 'pt'}, {'id': 1437252325341638658, 'text': '@jonnalexandre @jairbolsonaro @AdeleNascAl Serve para dar desculpa para levar chifre.', 'language': 'pt'}, {'id': 1437252223109672960, 'text': '@Fernandokabulo5 @jairbolsonaro https://t.co/ZlEx8mbuFe', 'language': 'pt'}]\n",
      "\u001b[38;5;2m\u001b[1mdocument 1 sent to azure\u001b[0m\n",
      "reply 11 added to documents\n",
      "reply 12 added to documents\n",
      "reply 13 added to documents\n",
      "reply 14 added to documents\n",
      "reply 15 added to documents\n",
      "reply 16 added to documents\n",
      "reply 17 added to documents\n",
      "reply 18 added to documents\n",
      "reply 19 added to documents\n",
      "reply 20 added to documents\n",
      "[{'id': 1437252209109049348, 'text': '@RobertoAlvesCa6 @jairbolsonaro Lula e bolsonaro presos', 'language': 'pt'}, {'id': 1437252086836641793, 'text': '@RobertoAlvesCa6 @jairbolsonaro Fica vendo esperto.', 'language': 'pt'}, {'id': 1437252004003426306, 'text': '@guelloliveira @ALLuSapelli @jairbolsonaro Nós. Eles. Guerra politica. Sério mesmo eu fico numa depressão profunda lendo isso. Quando raios vcs vão entender que verdadeiro NÓS X ELES é POVO X POLÍTICOS, ESTADO, MÁQUINA PÚBLICA, senado, câmara, STF e a poH4 toda?????? Acorda. O gado chamando os cegos de buR0s é dose', 'language': 'pt'}, {'id': 1437251790630572040, 'text': '@MaDireita_ @Jnior16280406 @jairbolsonaro kkkkkkkkkkkkkkkkkkkkkkkkkkkkk', 'language': 'pt'}, {'id': 1437251356256002050, 'text': '@raposeirotfj @jairbolsonaro Reclama com o teu Governador, Raposeiro!', 'language': 'pt'}, {'id': 1437251344809725954, 'text': '@ImanOrdinaryGu2 @DelmiraMathias @jairbolsonaro Essa foto aí da dita multidão tá mais FAKE que as profissionais do amor 💘 contratadas pelo Ronaldo Fenômeno qdo foi pego com as bonecas kkkkkkkk', 'language': 'pt'}, {'id': 1437251093440999429, 'text': '@guelloliveira @ALLuSapelli @jairbolsonaro Foi isso mesmo.\\nLisboa do YouTube fez uma live hoje em Brasília. Um rapaz num carro de som falou que não esperava ninguem lá hoje e que agendou o local antes do MBL. Pra eles não fazerem a manifestação lá.', 'language': 'pt'}, {'id': 1437250472331595776, 'text': '@CarlaFaber @dinhopereira01 @jairbolsonaro TMJ', 'language': 'pt'}, {'id': 1437250328202825732, 'text': '@jonnalexandre @jairbolsonaro @AdeleNascAl Brasil melhor não significa guerra. Política é outro papo', 'language': 'pt'}, {'id': 1437250032927924231, 'text': '@ClaudioMaduro @jairbolsonaro Estude um pouco sobre política para não passar vergonha', 'language': 'pt'}]\n",
      "\u001b[38;5;2m\u001b[1mdocument 2 sent to azure\u001b[0m\n"
     ]
    }
   ],
   "metadata": {}
  }
 ],
 "metadata": {
  "orig_nbformat": 4,
  "language_info": {
   "name": "python",
   "version": "3.9.6",
   "mimetype": "text/x-python",
   "codemirror_mode": {
    "name": "ipython",
    "version": 3
   },
   "pygments_lexer": "ipython3",
   "nbconvert_exporter": "python",
   "file_extension": ".py"
  },
  "kernelspec": {
   "name": "python3",
   "display_name": "Python 3.9.6 64-bit"
  },
  "interpreter": {
   "hash": "b7f956a46ecdd08bf05a56fbe663e66607cb81b1d1907f855a4e3aba77369911"
  }
 },
 "nbformat": 4,
 "nbformat_minor": 2
}