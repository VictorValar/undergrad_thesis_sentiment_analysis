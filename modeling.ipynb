{
 "cells": [
  {
   "cell_type": "code",
   "execution_count": 68,
   "source": [
    "#Power BI Export\r\n",
    "\r\n",
    "import importlib.util\r\n",
    "spec = importlib.util.spec_from_file_location(\"MongoTwitter.models\", r\"C:\\Users\\victor.santos2\\OneDrive - Grupo Marista\\TCC\\Twitter Sentiment Analysis\\MongoTwitter\\models.py\")\r\n",
    "models = importlib.util.module_from_spec(spec)\r\n",
    "spec.loader.exec_module(models)\r\n",
    "import pandas as pd\r\n",
    "import mongoengine\r\n",
    "\r\n",
    "mongoengine.register_connection(alias='core',name='sentimentAnalysis')\r\n",
    "#1\r\n"
   ],
   "outputs": [],
   "metadata": {}
  },
  {
   "cell_type": "code",
   "execution_count": 69,
   "source": [
    "candidates = [('lhmandetta',2726301380,'Mandetta'),\r\n",
    "('EduardoLeite_',123891446,'Eduardo Leite'),\r\n",
    "('DatenaOficial',68722955, 'Datena'),\r\n",
    "('cirogomes',33374761, 'Ciro Gomes'),\r\n",
    "('jdoriajr',64706049, 'Dória'),\r\n",
    "('LulaOficial',2670726740,'Lula'),\r\n",
    "('jairbolsonaro',128372940, 'Bolsonaro'),]\r\n",
    "can_df = pd.DataFrame(data=candidates, columns=['Handle', 'author_id','Name'])\r\n",
    "can_df\r\n",
    "#2\r\n"
   ],
   "outputs": [
    {
     "output_type": "execute_result",
     "data": {
      "text/html": [
       "<div>\n",
       "<style scoped>\n",
       "    .dataframe tbody tr th:only-of-type {\n",
       "        vertical-align: middle;\n",
       "    }\n",
       "\n",
       "    .dataframe tbody tr th {\n",
       "        vertical-align: top;\n",
       "    }\n",
       "\n",
       "    .dataframe thead th {\n",
       "        text-align: right;\n",
       "    }\n",
       "</style>\n",
       "<table border=\"1\" class=\"dataframe\">\n",
       "  <thead>\n",
       "    <tr style=\"text-align: right;\">\n",
       "      <th></th>\n",
       "      <th>Handle</th>\n",
       "      <th>author_id</th>\n",
       "      <th>Name</th>\n",
       "    </tr>\n",
       "  </thead>\n",
       "  <tbody>\n",
       "    <tr>\n",
       "      <th>0</th>\n",
       "      <td>lhmandetta</td>\n",
       "      <td>2726301380</td>\n",
       "      <td>Mandetta</td>\n",
       "    </tr>\n",
       "    <tr>\n",
       "      <th>1</th>\n",
       "      <td>EduardoLeite_</td>\n",
       "      <td>123891446</td>\n",
       "      <td>Eduardo Leite</td>\n",
       "    </tr>\n",
       "    <tr>\n",
       "      <th>2</th>\n",
       "      <td>DatenaOficial</td>\n",
       "      <td>68722955</td>\n",
       "      <td>Datena</td>\n",
       "    </tr>\n",
       "    <tr>\n",
       "      <th>3</th>\n",
       "      <td>cirogomes</td>\n",
       "      <td>33374761</td>\n",
       "      <td>Ciro Gomes</td>\n",
       "    </tr>\n",
       "    <tr>\n",
       "      <th>4</th>\n",
       "      <td>jdoriajr</td>\n",
       "      <td>64706049</td>\n",
       "      <td>Dória</td>\n",
       "    </tr>\n",
       "    <tr>\n",
       "      <th>5</th>\n",
       "      <td>LulaOficial</td>\n",
       "      <td>2670726740</td>\n",
       "      <td>Lula</td>\n",
       "    </tr>\n",
       "    <tr>\n",
       "      <th>6</th>\n",
       "      <td>jairbolsonaro</td>\n",
       "      <td>128372940</td>\n",
       "      <td>Bolsonaro</td>\n",
       "    </tr>\n",
       "  </tbody>\n",
       "</table>\n",
       "</div>"
      ],
      "text/plain": [
       "          Handle   author_id           Name\n",
       "0     lhmandetta  2726301380       Mandetta\n",
       "1  EduardoLeite_   123891446  Eduardo Leite\n",
       "2  DatenaOficial    68722955         Datena\n",
       "3      cirogomes    33374761     Ciro Gomes\n",
       "4       jdoriajr    64706049          Dória\n",
       "5    LulaOficial  2670726740           Lula\n",
       "6  jairbolsonaro   128372940      Bolsonaro"
      ]
     },
     "metadata": {},
     "execution_count": 69
    }
   ],
   "metadata": {}
  },
  {
   "cell_type": "code",
   "execution_count": 70,
   "source": [
    "objs_tweets = models.Tweets.objects().all().values_list('id', 'tweet_id','author_id','created_at','text','lang','retweet_count','reply_count','like_count','quote_count')\r\n",
    "tweets = pd.DataFrame.from_records(data=objs_tweets, columns=['id','tweet_id','author_id','created_at','text','lang','retweet_count','reply_count','like_count','quote_count'])\r\n",
    "tweets_df = tweets\r\n",
    "tweets = tweets.drop(columns=['id','created_at','text','lang','retweet_count','reply_count','like_count','quote_count'])\r\n",
    "tweets = tweets.rename(columns={\"tweet_id\": \"conversation_id\"})\r\n",
    "tweets = tweets.merge(can_df)\r\n",
    "tweets = tweets.drop(columns=['author_id'])\r\n",
    "#3"
   ],
   "outputs": [],
   "metadata": {}
  },
  {
   "cell_type": "code",
   "execution_count": 71,
   "source": [
    "# tweets_sentiments = models.TweetsSentiment.objects.all().values_list('tweet_id','length','sentiment', 'negative','positive', 'neutral','clean_text')\r\n",
    "# tweets_sentiments_df = pd.DataFrame.from_records(data=tweets_sentiments, columns=['tweet_id','length','sentiment', 'negative','positive', 'neutral','clean_text'])\r\n",
    "# tweets_df = tweets_df.merge(tweets_sentiments_df)\r\n",
    "#4\r\n"
   ],
   "outputs": [],
   "metadata": {}
  },
  {
   "cell_type": "code",
   "execution_count": 72,
   "source": [
    "objs_replies = models.Replies.objects.all().values_list('id','reply_id', 'in_reply_to_user_id', 'conversation_id' ,'author_id','created_at','text','lang','retweet_count','reply_count','like_count','quote_count')\r\n",
    "replies_df = pd.DataFrame.from_records(data=objs_replies, columns=['id','reply_id', 'in_reply_to_user_id', 'conversation_id' ,'author_id','created_at','text','lang','retweet_count','reply_count','like_count','quote_count'])\r\n",
    "#5\r\n"
   ],
   "outputs": [],
   "metadata": {}
  },
  {
   "cell_type": "code",
   "execution_count": 73,
   "source": [
    "# replies_sentiments = models.RepliesSentiment.objects.all().values_list('reply_id','length','sentiment', 'negative','positive', 'neutral','clean_text')\r\n",
    "# replies_sentiments_df = pd.DataFrame.from_records(data=replies_sentiments, columns=['reply_id','length','sentiment', 'negative','positive', 'neutral','clean_text'])\r\n",
    "# replies_df = replies_df.merge(replies_sentiments_df)\r\n",
    "#6"
   ],
   "outputs": [],
   "metadata": {}
  },
  {
   "cell_type": "code",
   "execution_count": 74,
   "source": [
    "replies_df = replies_df.merge(tweets)\r\n",
    "tweets_df = tweets_df.merge(can_df)\r\n",
    "#7\r\n",
    "\r\n"
   ],
   "outputs": [],
   "metadata": {}
  },
  {
   "cell_type": "code",
   "execution_count": 75,
   "source": [
    "#Tests\r\n",
    "candidates = [('lhmandetta',2726301380),\r\n",
    "('EduardoLeite_',123891446),\r\n",
    "('DatenaOficial',68722955),\r\n",
    "('cirogomes',33374761),\r\n",
    "('jdoriajr',64706049),\r\n",
    "('LulaOficial',2670726740),\r\n",
    "('jairbolsonaro',128372940)]\r\n",
    "for candidate in candidates:\r\n",
    "    print(candidate[0],'replies:',len(replies_df[replies_df['Handle']==candidate[0]]))\r\n",
    " "
   ],
   "outputs": [
    {
     "output_type": "stream",
     "name": "stdout",
     "text": [
      "lhmandetta replies: 1650\n",
      "EduardoLeite_ replies: 3097\n",
      "DatenaOficial replies: 1574\n",
      "cirogomes replies: 20074\n",
      "jdoriajr replies: 12212\n",
      "LulaOficial replies: 11185\n",
      "jairbolsonaro replies: 9907\n"
     ]
    }
   ],
   "metadata": {}
  }
 ],
 "metadata": {
  "orig_nbformat": 4,
  "language_info": {
   "name": "python",
   "version": "3.9.6",
   "mimetype": "text/x-python",
   "codemirror_mode": {
    "name": "ipython",
    "version": 3
   },
   "pygments_lexer": "ipython3",
   "nbconvert_exporter": "python",
   "file_extension": ".py"
  },
  "kernelspec": {
   "name": "python3",
   "display_name": "Python 3.9.6 64-bit"
  },
  "interpreter": {
   "hash": "b7f956a46ecdd08bf05a56fbe663e66607cb81b1d1907f855a4e3aba77369911"
  }
 },
 "nbformat": 4,
 "nbformat_minor": 2
}