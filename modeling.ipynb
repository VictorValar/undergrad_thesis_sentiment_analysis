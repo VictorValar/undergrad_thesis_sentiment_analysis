{
 "cells": [
  {
   "cell_type": "code",
   "execution_count": 3,
   "source": [
    "#Power BI Export\r\n",
    "\r\n",
    "import importlib.util\r\n",
    "spec = importlib.util.spec_from_file_location(\"MongoTwitter.models\", r\"C:\\Users\\victor.santos2\\OneDrive - Grupo Marista\\TCC\\Twitter Sentiment Analysis\\MongoTwitter\\models.py\")\r\n",
    "models = importlib.util.module_from_spec(spec)\r\n",
    "spec.loader.exec_module(models)\r\n",
    "import pandas as pd\r\n",
    "import mongoengine\r\n",
    "\r\n",
    "mongoengine.register_connection(alias='core',name='sentimentAnalysis')\r\n",
    "\r\n",
    "candidates = [('lhmandetta',2726301380,'Mandetta'),\r\n",
    "('EduardoLeite_',123891446,'Eduardo Leite'),\r\n",
    "('DatenaOficial',68722955, 'Datena'),\r\n",
    "('cirogomes',33374761, 'Ciro Gomes'),\r\n",
    "('jdoriajr',64706049, 'Dória'),\r\n",
    "('LulaOficial',2670726740,'Lula'),\r\n",
    "('jairbolsonaro',128372940, 'Bolsonaro'),]\r\n",
    "can_df = pd.DataFrame(data=candidates, columns=['Handle', 'author_id','Name'])\r\n",
    "\r\n",
    "objs_tweets = models.Tweets.objects().all().values_list('id', 'tweet_id','author_id','created_at','text','lang','retweet_count','reply_count','like_count','quote_count')\r\n",
    "tweets = pd.DataFrame.from_records(data=objs_tweets, columns=['id','tweet_id','author_id','created_at','text','lang','retweet_count','reply_count','like_count','quote_count'])\r\n",
    "tweets_df = tweets\r\n",
    "tweets = tweets.drop(columns=['id','created_at','text','lang','retweet_count','reply_count','like_count','quote_count'])\r\n",
    "tweets = tweets.rename(columns={\"tweet_id\": \"conversation_id\"})\r\n",
    "tweets = tweets.merge(can_df)\r\n",
    "tweets = tweets.drop(columns=['author_id'])\r\n",
    "\r\n",
    "objs_replies = models.Replies.objects.all().values_list('id','reply_id', 'in_reply_to_user_id', 'conversation_id' ,'author_id','created_at','text','lang','retweet_count','reply_count','like_count','quote_count')\r\n",
    "replies_df = pd.DataFrame.from_records(data=objs_replies, columns=['id','reply_id', 'in_reply_to_user_id', 'conversation_id' ,'author_id','created_at','text','lang','retweet_count','reply_count','like_count','quote_count'])\r\n",
    "\r\n",
    "replies_df = replies_df.merge(tweets)\r\n",
    "tweets_df = tweets_df.merge(can_df)\r\n",
    "\r\n",
    "print(len(replies_df))\r\n"
   ],
   "outputs": [
    {
     "output_type": "stream",
     "name": "stdout",
     "text": [
      "29158\n"
     ]
    }
   ],
   "metadata": {}
  }
 ],
 "metadata": {
  "orig_nbformat": 4,
  "language_info": {
   "name": "python",
   "version": "3.9.6",
   "mimetype": "text/x-python",
   "codemirror_mode": {
    "name": "ipython",
    "version": 3
   },
   "pygments_lexer": "ipython3",
   "nbconvert_exporter": "python",
   "file_extension": ".py"
  },
  "kernelspec": {
   "name": "python3",
   "display_name": "Python 3.9.6 64-bit"
  },
  "interpreter": {
   "hash": "b7f956a46ecdd08bf05a56fbe663e66607cb81b1d1907f855a4e3aba77369911"
  }
 },
 "nbformat": 4,
 "nbformat_minor": 2
}